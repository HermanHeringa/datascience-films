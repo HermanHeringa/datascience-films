{
 "cells": [
  {
   "cell_type": "code",
   "execution_count": 1,
   "source": [
    "# import neccessary stuff \n",
    "#run this from the datascience-films folder\n",
    "import pandas as pd \n",
    "import numpy as np\n",
    "from pathlib import Path\n",
    "import matplotlib.pyplot as plt\n",
    "# ignore some warnings, not pressing to fix these issues, more annoying to show these\n",
    "from pandas.core.common import SettingWithCopyWarning\n",
    "import warnings\n",
    "warnings.simplefilter(action=\"ignore\", category=SettingWithCopyWarning)\n",
    "\n",
    "RESOURCE_PATH = Path('../cleaned_data')\n",
    "\n",
    "df = pd.read_csv(RESOURCE_PATH / 'final_data_movies.csv',sep=',')\n",
    "# df['years_after_event'] = df['years_after_event'].fillna(0)\n",
    "df = df.dropna()"
   ],
   "outputs": [],
   "metadata": {}
  },
  {
   "cell_type": "code",
   "execution_count": 2,
   "source": [
    "df['numVotes'] = df['numVotes'].fillna(0)\n",
    "#lastly pop our target we want\n",
    "target = df[['years_after_event','averageRating','numVotes']]\n",
    "target.averageRating =  target.averageRating.fillna(5)\n",
    "target['numVotes'] = target['numVotes'].fillna(0)\n",
    "target['numVotes'] = target['numVotes'].astype(np.int64)\n",
    "target['averageRating'] = target['averageRating'].fillna(1)\n",
    "target['averageRating'] = target['averageRating'].astype(np.int64)\n"
   ],
   "outputs": [],
   "metadata": {}
  },
  {
   "cell_type": "code",
   "execution_count": 3,
   "source": [
    "# split genres per genre and create column per genre\n",
    "unique_genres = pd.unique(df[\"genres\"].str.split(\",\", expand=True).stack())\n",
    "df = df.join(df.pop('genres').str.get_dummies(sep=',').astype(bool))\n",
    "df = df.join(df.pop('historical_event').str.join('').str.get_dummies().astype(bool))"
   ],
   "outputs": [],
   "metadata": {}
  },
  {
   "cell_type": "code",
   "execution_count": 4,
   "source": [
    "# get numeric features and set as target\n",
    "numeric_feature_names = list(unique_genres)\n",
    "numeric_features = df[numeric_feature_names]"
   ],
   "outputs": [],
   "metadata": {}
  },
  {
   "cell_type": "code",
   "execution_count": 5,
   "source": [
    "from sklearn.model_selection import train_test_split\n",
    "\n",
    "# splits the training and test data set in 65% : 35%\n",
    "# assign random_state to any value.This ensures consistency.\n",
    "X_train, X_test, Y_train, Y_test = train_test_split(numeric_features, target, test_size = 0.3, random_state=10)\n",
    "print(X_train.shape)\n",
    "print(Y_train.shape)\n",
    "\n",
    "print(X_test.shape)\n",
    "print(Y_test.shape)"
   ],
   "outputs": [
    {
     "output_type": "stream",
     "name": "stdout",
     "text": [
      "(161, 16)\n",
      "(161, 3)\n",
      "(69, 16)\n",
      "(69, 3)\n"
     ]
    }
   ],
   "metadata": {}
  },
  {
   "cell_type": "code",
   "execution_count": 6,
   "source": [
    "#import linear regression model\n",
    "from sklearn.linear_model import LinearRegression\n",
    "from sklearn.metrics import mean_squared_error, r2_score\n",
    "\n",
    "linear_model = LinearRegression()\n",
    "linear_model.fit(X_train, Y_train)\n",
    "\n",
    "y_train_predict = linear_model.predict(X_train)\n",
    "\n",
    "rmse = (np.sqrt(mean_squared_error(Y_train, y_train_predict)))\n",
    "r2 = r2_score(Y_train, y_train_predict)\n",
    "\n",
    "print(\"The model performance for training set\")\n",
    "print(\"--------------------------------------\")\n",
    "print(f'MSE is {rmse}')\n",
    "print(f'R2 score is {r2}')\n",
    "print(\"\\n\")\n",
    "\n",
    "y_test_predict = linear_model.predict(X_test)\n",
    "# root mean square error of the model\n",
    "rmse = (np.sqrt(mean_squared_error(Y_test, y_test_predict)))\n",
    "\n",
    "# r-squared score of the model\n",
    "r2 = r2_score(Y_test, y_test_predict)\n",
    "\n",
    "print(\"The model performance for testing set\")\n",
    "print(\"--------------------------------------\")\n",
    "print(f'MSE is {rmse}')\n",
    "print(f'R2 score is {r2}')"
   ],
   "outputs": [
    {
     "output_type": "stream",
     "name": "stdout",
     "text": [
      "The model performance for training set\n",
      "--------------------------------------\n",
      "RMSE is 98398.495372538\n",
      "R2 score is 0.4156589863802123\n",
      "\n",
      "\n",
      "The model performance for testing set\n",
      "--------------------------------------\n",
      "RMSE is 28628.535140702923\n",
      "R2 score is -2.9112841142824037\n"
     ]
    }
   ],
   "metadata": {}
  }
 ],
 "metadata": {
  "orig_nbformat": 4,
  "language_info": {
   "name": "python",
   "version": "3.8.11",
   "mimetype": "text/x-python",
   "codemirror_mode": {
    "name": "ipython",
    "version": 3
   },
   "pygments_lexer": "ipython3",
   "nbconvert_exporter": "python",
   "file_extension": ".py"
  },
  "kernelspec": {
   "name": "python3",
   "display_name": "Python 3.8.11 64-bit ('env': venv)"
  },
  "interpreter": {
   "hash": "b62d32bd32e2ba77bc5f9a7f8faea1a88a0edd844664167668232ee325e92277"
  }
 },
 "nbformat": 4,
 "nbformat_minor": 2
}